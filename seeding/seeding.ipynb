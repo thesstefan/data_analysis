{
 "cells": [
  {
   "cell_type": "markdown",
   "id": "3549399d",
   "metadata": {
    "tags": []
   },
   "source": [
    "# Cloud Seeding\n",
    "\n",
    "These data were collected in the summer of 1975 from an experiment to investigate the use of silver iodide in cloud seeding to increase rainfall. In the experiment, which was conducted in an area of Florida, 24 days were judged suitable for seeding on the basis that a measured\n",
    "suitability criterion, denoted $S-Ne$, was not less than 1.5. On each day, the decision to seed was made randomly. The response variable $Y$\n",
    "is the amount of rain (in cubic meters $\\times 10^7$) that fell\n",
    "in the target area for a 6 hour period on each suitable day. As well as $S - Ne$, the following explanatory variables were also recorded on each suitable day.\n",
    "\n",
    "- $A$ = Action: an indicator of wheter seeding action occured (1 yes, 0 no)\n",
    "- $T$ = Time: number of days after the first day of the experiment (June 1, 1975)\n",
    "- $C$ = Echo covarage: the percentage cloud cover in the experimental area, measured using radar\n",
    "- $P$ = Pre-wetness: the total rainfall in the target area 1 hour before seeding (in cubic meters $\\times 10^7$)\n",
    "- $E$ = Echo motion: an indicator showing wheter the radar echo was moving (1) or stationary (2)\n",
    "\n",
    "The aim is to set up a model to investigate how $Y$ is related to\n",
    "the explanatory variables. There are several difficulties; for instance,\n",
    "the second data point seems untypical in several ways. The second data point will be highlighted\n",
    "separately in histograms as the 'Outlier Point'.\n",
    "\n",
    "This is the 70th data set from \"A Handbook of Small Data Sets\"."
   ]
  },
  {
   "cell_type": "markdown",
   "id": "ac078ed4-1896-46c7-adf6-1e209f25acf1",
   "metadata": {
    "tags": []
   },
   "source": [
    "## 1. Data description"
   ]
  },
  {
   "cell_type": "code",
   "execution_count": 1,
   "id": "6958983f",
   "metadata": {},
   "outputs": [],
   "source": [
    "%matplotlib inline\n",
    "\n",
    "import pandas as pd\n",
    "import matplotlib.pyplot as plt\n",
    "import matplotlib.patches\n",
    "import numpy as np\n",
    "import plotly.express as px\n",
    "from sklearn.metrics import r2_score\n",
    "from sklearn.linear_model import LinearRegression\n",
    "from sklearn.metrics import classification_report\n",
    "\n",
    "data = pd.read_csv('data.csv')"
   ]
  },
  {
   "cell_type": "code",
   "execution_count": 2,
   "id": "71debf32",
   "metadata": {},
   "outputs": [
    {
     "data": {
      "text/html": [
       "<div>\n",
       "<style scoped>\n",
       "    .dataframe tbody tr th:only-of-type {\n",
       "        vertical-align: middle;\n",
       "    }\n",
       "\n",
       "    .dataframe tbody tr th {\n",
       "        vertical-align: top;\n",
       "    }\n",
       "\n",
       "    .dataframe thead th {\n",
       "        text-align: right;\n",
       "    }\n",
       "</style>\n",
       "<table border=\"1\" class=\"dataframe\">\n",
       "  <thead>\n",
       "    <tr style=\"text-align: right;\">\n",
       "      <th></th>\n",
       "      <th>A</th>\n",
       "      <th>T</th>\n",
       "      <th>S-Ne</th>\n",
       "      <th>C</th>\n",
       "      <th>P</th>\n",
       "      <th>E</th>\n",
       "      <th>Y</th>\n",
       "    </tr>\n",
       "  </thead>\n",
       "  <tbody>\n",
       "    <tr>\n",
       "      <th>0</th>\n",
       "      <td>0</td>\n",
       "      <td>0</td>\n",
       "      <td>1.75</td>\n",
       "      <td>13.4</td>\n",
       "      <td>0.274</td>\n",
       "      <td>2</td>\n",
       "      <td>12.85</td>\n",
       "    </tr>\n",
       "    <tr>\n",
       "      <th>1</th>\n",
       "      <td>1</td>\n",
       "      <td>1</td>\n",
       "      <td>2.70</td>\n",
       "      <td>37.9</td>\n",
       "      <td>1.267</td>\n",
       "      <td>1</td>\n",
       "      <td>5.52</td>\n",
       "    </tr>\n",
       "    <tr>\n",
       "      <th>2</th>\n",
       "      <td>1</td>\n",
       "      <td>3</td>\n",
       "      <td>4.10</td>\n",
       "      <td>3.9</td>\n",
       "      <td>0.198</td>\n",
       "      <td>2</td>\n",
       "      <td>6.29</td>\n",
       "    </tr>\n",
       "    <tr>\n",
       "      <th>3</th>\n",
       "      <td>0</td>\n",
       "      <td>4</td>\n",
       "      <td>2.35</td>\n",
       "      <td>5.3</td>\n",
       "      <td>0.526</td>\n",
       "      <td>1</td>\n",
       "      <td>6.11</td>\n",
       "    </tr>\n",
       "    <tr>\n",
       "      <th>4</th>\n",
       "      <td>1</td>\n",
       "      <td>6</td>\n",
       "      <td>4.25</td>\n",
       "      <td>7.1</td>\n",
       "      <td>0.250</td>\n",
       "      <td>1</td>\n",
       "      <td>2.45</td>\n",
       "    </tr>\n",
       "    <tr>\n",
       "      <th>5</th>\n",
       "      <td>0</td>\n",
       "      <td>18</td>\n",
       "      <td>1.30</td>\n",
       "      <td>4.6</td>\n",
       "      <td>0.307</td>\n",
       "      <td>1</td>\n",
       "      <td>0.47</td>\n",
       "    </tr>\n",
       "    <tr>\n",
       "      <th>6</th>\n",
       "      <td>0</td>\n",
       "      <td>25</td>\n",
       "      <td>3.35</td>\n",
       "      <td>4.9</td>\n",
       "      <td>0.194</td>\n",
       "      <td>1</td>\n",
       "      <td>4.56</td>\n",
       "    </tr>\n",
       "    <tr>\n",
       "      <th>7</th>\n",
       "      <td>0</td>\n",
       "      <td>27</td>\n",
       "      <td>2.85</td>\n",
       "      <td>12.1</td>\n",
       "      <td>0.751</td>\n",
       "      <td>1</td>\n",
       "      <td>6.35</td>\n",
       "    </tr>\n",
       "    <tr>\n",
       "      <th>8</th>\n",
       "      <td>1</td>\n",
       "      <td>28</td>\n",
       "      <td>2.20</td>\n",
       "      <td>5.2</td>\n",
       "      <td>0.084</td>\n",
       "      <td>1</td>\n",
       "      <td>5.06</td>\n",
       "    </tr>\n",
       "    <tr>\n",
       "      <th>9</th>\n",
       "      <td>1</td>\n",
       "      <td>29</td>\n",
       "      <td>4.40</td>\n",
       "      <td>4.1</td>\n",
       "      <td>0.236</td>\n",
       "      <td>1</td>\n",
       "      <td>2.76</td>\n",
       "    </tr>\n",
       "    <tr>\n",
       "      <th>10</th>\n",
       "      <td>1</td>\n",
       "      <td>32</td>\n",
       "      <td>3.10</td>\n",
       "      <td>2.8</td>\n",
       "      <td>0.214</td>\n",
       "      <td>1</td>\n",
       "      <td>4.05</td>\n",
       "    </tr>\n",
       "    <tr>\n",
       "      <th>11</th>\n",
       "      <td>0</td>\n",
       "      <td>33</td>\n",
       "      <td>3.95</td>\n",
       "      <td>6.8</td>\n",
       "      <td>0.796</td>\n",
       "      <td>1</td>\n",
       "      <td>5.74</td>\n",
       "    </tr>\n",
       "    <tr>\n",
       "      <th>12</th>\n",
       "      <td>1</td>\n",
       "      <td>35</td>\n",
       "      <td>2.90</td>\n",
       "      <td>3.0</td>\n",
       "      <td>0.124</td>\n",
       "      <td>1</td>\n",
       "      <td>4.84</td>\n",
       "    </tr>\n",
       "    <tr>\n",
       "      <th>13</th>\n",
       "      <td>1</td>\n",
       "      <td>38</td>\n",
       "      <td>2.05</td>\n",
       "      <td>7.0</td>\n",
       "      <td>0.144</td>\n",
       "      <td>1</td>\n",
       "      <td>11.86</td>\n",
       "    </tr>\n",
       "    <tr>\n",
       "      <th>14</th>\n",
       "      <td>0</td>\n",
       "      <td>39</td>\n",
       "      <td>4.00</td>\n",
       "      <td>11.3</td>\n",
       "      <td>0.398</td>\n",
       "      <td>1</td>\n",
       "      <td>4.45</td>\n",
       "    </tr>\n",
       "    <tr>\n",
       "      <th>15</th>\n",
       "      <td>0</td>\n",
       "      <td>53</td>\n",
       "      <td>3.35</td>\n",
       "      <td>4.2</td>\n",
       "      <td>0.237</td>\n",
       "      <td>2</td>\n",
       "      <td>3.66</td>\n",
       "    </tr>\n",
       "    <tr>\n",
       "      <th>16</th>\n",
       "      <td>1</td>\n",
       "      <td>55</td>\n",
       "      <td>3.70</td>\n",
       "      <td>3.3</td>\n",
       "      <td>0.960</td>\n",
       "      <td>1</td>\n",
       "      <td>4.22</td>\n",
       "    </tr>\n",
       "    <tr>\n",
       "      <th>17</th>\n",
       "      <td>0</td>\n",
       "      <td>56</td>\n",
       "      <td>3.80</td>\n",
       "      <td>2.2</td>\n",
       "      <td>0.230</td>\n",
       "      <td>1</td>\n",
       "      <td>1.16</td>\n",
       "    </tr>\n",
       "    <tr>\n",
       "      <th>18</th>\n",
       "      <td>1</td>\n",
       "      <td>59</td>\n",
       "      <td>3.40</td>\n",
       "      <td>6.5</td>\n",
       "      <td>0.142</td>\n",
       "      <td>2</td>\n",
       "      <td>5.45</td>\n",
       "    </tr>\n",
       "    <tr>\n",
       "      <th>19</th>\n",
       "      <td>1</td>\n",
       "      <td>65</td>\n",
       "      <td>3.15</td>\n",
       "      <td>3.1</td>\n",
       "      <td>0.073</td>\n",
       "      <td>1</td>\n",
       "      <td>2.02</td>\n",
       "    </tr>\n",
       "    <tr>\n",
       "      <th>20</th>\n",
       "      <td>0</td>\n",
       "      <td>68</td>\n",
       "      <td>3.15</td>\n",
       "      <td>2.6</td>\n",
       "      <td>0.136</td>\n",
       "      <td>1</td>\n",
       "      <td>0.82</td>\n",
       "    </tr>\n",
       "    <tr>\n",
       "      <th>21</th>\n",
       "      <td>1</td>\n",
       "      <td>82</td>\n",
       "      <td>4.01</td>\n",
       "      <td>8.3</td>\n",
       "      <td>0.123</td>\n",
       "      <td>1</td>\n",
       "      <td>1.09</td>\n",
       "    </tr>\n",
       "    <tr>\n",
       "      <th>22</th>\n",
       "      <td>0</td>\n",
       "      <td>83</td>\n",
       "      <td>4.65</td>\n",
       "      <td>7.4</td>\n",
       "      <td>0.168</td>\n",
       "      <td>1</td>\n",
       "      <td>0.28</td>\n",
       "    </tr>\n",
       "  </tbody>\n",
       "</table>\n",
       "</div>"
      ],
      "text/plain": [
       "    A   T  S-Ne     C      P  E      Y\n",
       "0   0   0  1.75  13.4  0.274  2  12.85\n",
       "1   1   1  2.70  37.9  1.267  1   5.52\n",
       "2   1   3  4.10   3.9  0.198  2   6.29\n",
       "3   0   4  2.35   5.3  0.526  1   6.11\n",
       "4   1   6  4.25   7.1  0.250  1   2.45\n",
       "5   0  18  1.30   4.6  0.307  1   0.47\n",
       "6   0  25  3.35   4.9  0.194  1   4.56\n",
       "7   0  27  2.85  12.1  0.751  1   6.35\n",
       "8   1  28  2.20   5.2  0.084  1   5.06\n",
       "9   1  29  4.40   4.1  0.236  1   2.76\n",
       "10  1  32  3.10   2.8  0.214  1   4.05\n",
       "11  0  33  3.95   6.8  0.796  1   5.74\n",
       "12  1  35  2.90   3.0  0.124  1   4.84\n",
       "13  1  38  2.05   7.0  0.144  1  11.86\n",
       "14  0  39  4.00  11.3  0.398  1   4.45\n",
       "15  0  53  3.35   4.2  0.237  2   3.66\n",
       "16  1  55  3.70   3.3  0.960  1   4.22\n",
       "17  0  56  3.80   2.2  0.230  1   1.16\n",
       "18  1  59  3.40   6.5  0.142  2   5.45\n",
       "19  1  65  3.15   3.1  0.073  1   2.02\n",
       "20  0  68  3.15   2.6  0.136  1   0.82\n",
       "21  1  82  4.01   8.3  0.123  1   1.09\n",
       "22  0  83  4.65   7.4  0.168  1   0.28"
      ]
     },
     "execution_count": 2,
     "metadata": {},
     "output_type": "execute_result"
    }
   ],
   "source": [
    "data"
   ]
  },
  {
   "cell_type": "code",
   "execution_count": 3,
   "id": "d36f7927",
   "metadata": {},
   "outputs": [
    {
     "data": {
      "image/png": "[encoded data removed]",
      "text/plain": [
       "<Figure size 432x288 with 1 Axes>"
      ]
     },
     "metadata": {
      "needs_background": "light"
     },
     "output_type": "display_data"
    }
   ],
   "source": [
    "sizes = [data[data['A'] == 0].shape[0], data[data['A'] == 1].shape[0]]\n",
    "\n",
    "fig, ax = plt.subplots()\n",
    "\n",
    "ax.set_xticks([0, 1])\n",
    "ax.set_xticklabels(['Seeding', 'No Seeding'])\n",
    "\n",
    "ax.set_ylabel('Occurences')\n",
    "\n",
    "plt.bar([0, 1], sizes)\n",
    "plt.title(\"Distribution of seeding action indicators (A)\")\n",
    "\n",
    "plt.show()"
   ]
  },
  {
   "cell_type": "markdown",
   "id": "feebf844",
   "metadata": {},
   "source": [
    "The seeding action indicators are almost evenly distributed, as the data set contains 11 days where seeding occured and 12 days where it didn't."
   ]
  },
  {
   "cell_type": "code",
   "execution_count": 4,
   "id": "d6e2a8c5",
   "metadata": {},
   "outputs": [
    {
     "data": {
      "image/png": "[encoded data removed]",
      "text/plain": [
       "<Figure size 432x288 with 1 Axes>"
      ]
     },
     "metadata": {
      "needs_background": "light"
     },
     "output_type": "display_data"
    }
   ],
   "source": [
    "sizes = [data[data['E'] == 1].shape[0], data[data['E'] == 2].shape[0]]\n",
    "\n",
    "fig, ax = plt.subplots()\n",
    "\n",
    "ax.set_xticks([0, 1])\n",
    "ax.set_xticklabels(['Moving', 'Stationary'])\n",
    "\n",
    "ax.set_yticks(np.arange(0, max(sizes), 2))\n",
    "ax.set_ylabel('Occurences')\n",
    "\n",
    "plt.bar([0, 1], sizes)\n",
    "plt.title(\"Distribution of echo motion indicators (E)\")\n",
    "\n",
    "plt.show()"
   ]
  },
  {
   "cell_type": "markdown",
   "id": "84295eef-aae6-4ae5-926b-5bcdb4f347e3",
   "metadata": {},
   "source": [
    "Meanwhile, the echo motion indicators tell another story. It looks like the echo radar is usually moving, and it being stationary is more of an anomaly, since it \n",
    "acoounts for only 17% of data points."
   ]
  },
  {
   "cell_type": "code",
   "execution_count": 5,
   "id": "3f01d56d-acb6-456e-b62f-27c434165f8a",
   "metadata": {},
   "outputs": [
    {
     "data": {
      "image/png": "[encoded data removed]",
      "text/plain": [
       "<Figure size 432x288 with 1 Axes>"
      ]
     },
     "metadata": {
      "needs_background": "light"
     },
     "output_type": "display_data"
    },
    {
     "name": "stdout",
     "output_type": "stream",
     "text": [
      "Time\n",
      "Mean: 36.47826086956522\n",
      "Std: 25.204381951661052\n",
      "Value range: (0, 83)\n"
     ]
    }
   ],
   "source": [
    "fig, ax = plt.subplots()\n",
    "\n",
    "plt.title('Distribution of time (T)')\n",
    "\n",
    "plt.hist([data[data['T'] != 1]['T'], \n",
    "          data[data['T'] == 1]['T']],\n",
    "         bins=12,\n",
    "         stacked=True,\n",
    "        color=('C0', 'r'))\n",
    "\n",
    "ax.set_ylabel('Occurences')\n",
    "ax.set_xlabel('Day')\n",
    "\n",
    "ax.legend(['Usual Points', 'Outlier Point'])\n",
    "\n",
    "plt.show()\n",
    "\n",
    "print(f\"Time\",\n",
    "      f\"Mean: {data['T'].mean()}\",\n",
    "      f\"Std: {data['T'].std()}\",\n",
    "      f\"Value range: {data['T'].min(), data['T'].max()}\",\n",
    "      sep='\\n')"
   ]
  },
  {
   "cell_type": "markdown",
   "id": "f3732ecd-0fd4-430d-bd8e-871f63d199ec",
   "metadata": {},
   "source": [
    "The time data points are distributed evenly enough for our purpose, with a mean of 36.5 and a variance of 25.2, with data points ranging over 84 days."
   ]
  },
  {
   "cell_type": "code",
   "execution_count": 6,
   "id": "eb63a7ca-50c8-4df1-90a4-856cc1f0d4ab",
   "metadata": {},
   "outputs": [
    {
     "data": {
      "image/png": "[encoded data removed]",
      "text/plain": [
       "<Figure size 432x288 with 1 Axes>"
      ]
     },
     "metadata": {
      "needs_background": "light"
     },
     "output_type": "display_data"
    },
    {
     "name": "stdout",
     "output_type": "stream",
     "text": [
      "Stats with outlier\n",
      "Mean: 7.2608695652173925\n",
      "Std: 7.348329379119557\n",
      "\n",
      "Stats without outlier\n",
      "Mean: 5.868181818181818\n",
      "Std: 3.136025140150136\n",
      "\n",
      "Percentage of points with C<5%: 47.82608695652174%\n"
     ]
    }
   ],
   "source": [
    "fig, ax = plt.subplots()\n",
    "\n",
    "plt.title('Distribution of echo coverage (C)')\n",
    "\n",
    "plt.hist([data[data['T'] != 1]['C'], \n",
    "          data[data['T'] == 1]['C']],\n",
    "         stacked=True, color=('C0', 'r'))\n",
    "\n",
    "ax.set_ylabel('Occurences')\n",
    "ax.set_xlabel('Cloud Cover Percentage')\n",
    "\n",
    "ax.legend(['Usual Points', 'Outlier Point'])\n",
    "\n",
    "plt.show()\n",
    "\n",
    "print(\"Stats with outlier\",\n",
    "      f\"Mean: {data['C'].mean()}\",\n",
    "      f\"Std: {data['C'].std()}\",\n",
    "      sep='\\n')\n",
    "print()\n",
    "\n",
    "print(\"Stats without outlier\",\n",
    "      f\"Mean: {data[data['T'] != 1]['C'].mean()}\",\n",
    "      f\"Std: {data[data['T'] != 1]['C'].std()}\",\n",
    "      sep='\\n')\n",
    "print()\n",
    "\n",
    "print(f\"Percentage of points with C<5%: {data[data['C'] <= 5].shape[0] / data.shape[0] * 100}%\")"
   ]
  },
  {
   "cell_type": "markdown",
   "id": "c256f6c1-cb1f-4903-b802-f456a37dac11",
   "metadata": {},
   "source": [
    "If we forget about the outlier data point, the echo coverage has a somewhat predictable distribution. As the coverage value is increasing, the less probable of occuring it is. For example, echo coverage under 5% accounts for around 48% of data points."
   ]
  },
  {
   "cell_type": "code",
   "execution_count": 7,
   "id": "7cf5f51f-4a78-43cd-a346-57999b5f9f10",
   "metadata": {},
   "outputs": [
    {
     "data": {
      "image/png": "[encoded data removed]",
      "text/plain": [
       "<Figure size 432x288 with 1 Axes>"
      ]
     },
     "metadata": {
      "needs_background": "light"
     },
     "output_type": "display_data"
    },
    {
     "name": "stdout",
     "output_type": "stream",
     "text": [
      "\n",
      "Suitability criterion (S-Ne)\n",
      "Mean: 3.2373913043478266\n",
      "Std: 0.8844989202486054\n",
      "Value range: (1.3, 4.65)\n",
      "\n"
     ]
    }
   ],
   "source": [
    "fig, ax = plt.subplots()\n",
    "\n",
    "plt.title('Distribution of the suitability criterion (S-Ne)')\n",
    "\n",
    "plt.hist([data[(data['T'] != 1) & (data['S-Ne'] >= 1.5)]['S-Ne'], \n",
    "          data[(data['T'] == 1) & (data['S-Ne'] >= 1.5)]['S-Ne'],\n",
    "          data[data['S-Ne'] < 1.5]['S-Ne']],\n",
    "         stacked=True,\n",
    "         bins=20,\n",
    "         color=('C0', 'r', 'gray'))\n",
    "\n",
    "ax.set_ylabel('Occurences')\n",
    "ax.set_xlabel('S-Ne value')\n",
    "\n",
    "ax.legend(['Usual Points', 'Outlier Point', 'Misadded Point'])\n",
    "\n",
    "plt.show()\n",
    "\n",
    "print()\n",
    "print(f\"Suitability criterion (S-Ne)\",\n",
    "      f\"Mean: {data['S-Ne'].mean()}\",\n",
    "      f\"Std: {data['S-Ne'].std()}\",\n",
    "      f\"Value range: {data['S-Ne'].min(), data['S-Ne'].max()}\",\n",
    "      sep='\\n')\n",
    "print()"
   ]
  },
  {
   "cell_type": "markdown",
   "id": "c4f8dffe-a705-4e67-a0f4-8b192a388040",
   "metadata": {},
   "source": [
    "The data set was supposed data points where the suitability criterion was at least 1.5, but it contains a point with $S-Ne = 1.3$. Outside this fact, the suitability criterion seems pretty uniformly distributed, with a slight tendency around 3.5."
   ]
  },
  {
   "cell_type": "code",
   "execution_count": 8,
   "id": "40cf9515-d3df-4901-9beb-271a726278b5",
   "metadata": {},
   "outputs": [
    {
     "data": {
      "image/png": "[encoded data removed]",
      "text/plain": [
       "<Figure size 432x288 with 1 Axes>"
      ]
     },
     "metadata": {
      "needs_background": "light"
     },
     "output_type": "display_data"
    },
    {
     "name": "stdout",
     "output_type": "stream",
     "text": [
      "\n",
      "\n",
      "Mean: 0.3405217391304349\n",
      "Std: 0.3120573766538946\n",
      "Value range: (0.073, 1.267)\n",
      "\n",
      "Percentage of points with P<0.5%: 78.26086956521739%\n"
     ]
    }
   ],
   "source": [
    "fig, ax = plt.subplots()\n",
    "\n",
    "plt.title('Distribution of pre-wetness (P)')\n",
    "\n",
    "plt.hist([data[data['T'] != 1]['P'], \n",
    "          data[data['T'] == 1]['P']],\n",
    "         stacked=True,\n",
    "         color=('C0', 'r'))\n",
    "\n",
    "ax.set_ylabel('Occurences')\n",
    "ax.set_xlabel('Pre-wetness value (cubic meters x 10^7)')\n",
    "\n",
    "ax.legend(['Usual Points', 'Outlier Point'])\n",
    "\n",
    "plt.show()\n",
    "\n",
    "print()\n",
    "print(f\"\",\n",
    "      f\"Mean: {data['P'].mean()}\",\n",
    "      f\"Std: {data['P'].std()}\",\n",
    "      f\"Value range: {data['P'].min(), data['P'].max()}\",\n",
    "      sep='\\n')\n",
    "print()\n",
    "\n",
    "print(f\"Percentage of points with P<0.5%: {data[data['P'] <= 0.5].shape[0] / data.shape[0] * 100}%\")"
   ]
  },
  {
   "cell_type": "markdown",
   "id": "a5704a67-bcaf-46e7-a6b4-86b9cc193b84",
   "metadata": {},
   "source": [
    "Similarly to the echo coverage, as the pre-wetness value increases, it's less likely to occur. 78.2% of the points in the data set correspond to\n",
    "a P value less than 0.5."
   ]
  },
  {
   "cell_type": "code",
   "execution_count": 9,
   "id": "81cc2ba0-8230-4cbf-b483-bc56ed873354",
   "metadata": {},
   "outputs": [
    {
     "data": {
      "image/png": "[encoded data removed]",
      "text/plain": [
       "<Figure size 432x288 with 1 Axes>"
      ]
     },
     "metadata": {
      "needs_background": "light"
     },
     "output_type": "display_data"
    },
    {
     "name": "stdout",
     "output_type": "stream",
     "text": [
      "\n",
      "Amount of rain (in cubic meters ×10^7) that fell in the target area for a 6 hour period on each suitable day (Y)\n",
      "Mean: 4.437391304347826\n",
      "Std: 3.174320567805602\n",
      "Value range: (0.28, 12.85)\n",
      "\n"
     ]
    }
   ],
   "source": [
    "fig,ax = plt.subplots()\n",
    "\n",
    "plt.title('Distribution of rainfall (Y)')\n",
    "\n",
    "plt.hist([data[data['T'] != 1]['Y'], \n",
    "          data[data['T'] == 1]['Y']],\n",
    "         stacked=True,\n",
    "         color=('C0', 'r'))\n",
    "\n",
    "ax.set_ylabel('Occurence')\n",
    "ax.set_xlabel(' value')\n",
    "\n",
    "ax.legend(['Usual Points', 'Outlier Point'])\n",
    "\n",
    "plt.show()\n",
    "\n",
    "print()\n",
    "print(f\"Amount of rain (in cubic meters ×10^7) that fell in the target area for a 6 hour period on each suitable day (Y)\",\n",
    "      f\"Mean: {data['Y'].mean()}\",\n",
    "      f\"Std: {data['Y'].std()}\",\n",
    "      f\"Value range: {data['Y'].min(), data['Y'].max()}\",\n",
    "      sep='\\n')\n",
    "print()"
   ]
  },
  {
   "cell_type": "markdown",
   "id": "fabf42f8-f60b-4526-8dd5-878eedcbd05e",
   "metadata": {},
   "source": [
    "The Y-values seem almost evenly distributed in the interval (0, 7) with 2 data points with Y > 11."
   ]
  },
  {
   "cell_type": "markdown",
   "id": "ffb63dfa",
   "metadata": {},
   "source": [
    "## 2. Correlation"
   ]
  },
  {
   "cell_type": "code",
   "execution_count": 10,
   "id": "55b99112",
   "metadata": {},
   "outputs": [
    {
     "data": {
      "text/html": [
       "<div>\n",
       "<style scoped>\n",
       "    .dataframe tbody tr th:only-of-type {\n",
       "        vertical-align: middle;\n",
       "    }\n",
       "\n",
       "    .dataframe tbody tr th {\n",
       "        vertical-align: top;\n",
       "    }\n",
       "\n",
       "    .dataframe thead th {\n",
       "        text-align: right;\n",
       "    }\n",
       "</style>\n",
       "<table border=\"1\" class=\"dataframe\">\n",
       "  <thead>\n",
       "    <tr style=\"text-align: right;\">\n",
       "      <th></th>\n",
       "      <th>A</th>\n",
       "      <th>T</th>\n",
       "      <th>S-Ne</th>\n",
       "      <th>C</th>\n",
       "      <th>P</th>\n",
       "      <th>E</th>\n",
       "      <th>Y</th>\n",
       "    </tr>\n",
       "  </thead>\n",
       "  <tbody>\n",
       "    <tr>\n",
       "      <th>A</th>\n",
       "      <td>1.000000</td>\n",
       "      <td>-0.016734</td>\n",
       "      <td>0.111815</td>\n",
       "      <td>0.061397</td>\n",
       "      <td>-0.077360</td>\n",
       "      <td>-0.019968</td>\n",
       "      <td>0.066201</td>\n",
       "    </tr>\n",
       "    <tr>\n",
       "      <th>T</th>\n",
       "      <td>-0.016734</td>\n",
       "      <td>1.000000</td>\n",
       "      <td>0.408091</td>\n",
       "      <td>-0.361351</td>\n",
       "      <td>-0.331100</td>\n",
       "      <td>-0.143851</td>\n",
       "      <td>-0.522053</td>\n",
       "    </tr>\n",
       "    <tr>\n",
       "      <th>S-Ne</th>\n",
       "      <td>0.111815</td>\n",
       "      <td>0.408091</td>\n",
       "      <td>1.000000</td>\n",
       "      <td>-0.165789</td>\n",
       "      <td>-0.039848</td>\n",
       "      <td>-0.046353</td>\n",
       "      <td>-0.459571</td>\n",
       "    </tr>\n",
       "    <tr>\n",
       "      <th>C</th>\n",
       "      <td>0.061397</td>\n",
       "      <td>-0.361351</td>\n",
       "      <td>-0.165789</td>\n",
       "      <td>1.000000</td>\n",
       "      <td>0.660853</td>\n",
       "      <td>-0.016655</td>\n",
       "      <td>0.270118</td>\n",
       "    </tr>\n",
       "    <tr>\n",
       "      <th>P</th>\n",
       "      <td>-0.077360</td>\n",
       "      <td>-0.331100</td>\n",
       "      <td>-0.039848</td>\n",
       "      <td>0.660853</td>\n",
       "      <td>1.000000</td>\n",
       "      <td>-0.192091</td>\n",
       "      <td>0.166172</td>\n",
       "    </tr>\n",
       "    <tr>\n",
       "      <th>E</th>\n",
       "      <td>-0.019968</td>\n",
       "      <td>-0.143851</td>\n",
       "      <td>-0.046353</td>\n",
       "      <td>-0.016655</td>\n",
       "      <td>-0.192091</td>\n",
       "      <td>1.000000</td>\n",
       "      <td>0.387974</td>\n",
       "    </tr>\n",
       "    <tr>\n",
       "      <th>Y</th>\n",
       "      <td>0.066201</td>\n",
       "      <td>-0.522053</td>\n",
       "      <td>-0.459571</td>\n",
       "      <td>0.270118</td>\n",
       "      <td>0.166172</td>\n",
       "      <td>0.387974</td>\n",
       "      <td>1.000000</td>\n",
       "    </tr>\n",
       "  </tbody>\n",
       "</table>\n",
       "</div>"
      ],
      "text/plain": [
       "             A         T      S-Ne         C         P         E         Y\n",
       "A     1.000000 -0.016734  0.111815  0.061397 -0.077360 -0.019968  0.066201\n",
       "T    -0.016734  1.000000  0.408091 -0.361351 -0.331100 -0.143851 -0.522053\n",
       "S-Ne  0.111815  0.408091  1.000000 -0.165789 -0.039848 -0.046353 -0.459571\n",
       "C     0.061397 -0.361351 -0.165789  1.000000  0.660853 -0.016655  0.270118\n",
       "P    -0.077360 -0.331100 -0.039848  0.660853  1.000000 -0.192091  0.166172\n",
       "E    -0.019968 -0.143851 -0.046353 -0.016655 -0.192091  1.000000  0.387974\n",
       "Y     0.066201 -0.522053 -0.459571  0.270118  0.166172  0.387974  1.000000"
      ]
     },
     "execution_count": 10,
     "metadata": {},
     "output_type": "execute_result"
    }
   ],
   "source": [
    "data.corr()"
   ]
  },
  {
   "cell_type": "code",
   "execution_count": 11,
   "id": "b9c174de",
   "metadata": {},
   "outputs": [
    {
     "data": {
      "image/png": "[encoded data removed]",
      "text/plain": [
       "<Figure size 576x576 with 2 Axes>"
      ]
     },
     "metadata": {
      "needs_background": "light"
     },
     "output_type": "display_data"
    }
   ],
   "source": [
    "def plot_corr(df,size=8):\n",
    "    f = plt.figure(figsize=(size, size))\n",
    "    corr = df.corr()\n",
    "    plt.matshow(corr, fignum=f.number)\n",
    "    plt.colorbar()\n",
    "    \n",
    "    plt.xticks(range(len(corr.columns)), corr.columns)\n",
    "    plt.yticks(range(len(corr.columns)), corr.columns)\n",
    "    \n",
    "    plt.title(\"Covariance matrix\")\n",
    "    \n",
    "plot_corr(data)"
   ]
  },
  {
   "cell_type": "markdown",
   "id": "944236d8",
   "metadata": {},
   "source": [
    "## 2.1 Removing the outlier point"
   ]
  },
  {
   "cell_type": "markdown",
   "id": "9f9d00a9",
   "metadata": {},
   "source": [
    "There are a lot of meaningful covariances that can be worked with, but the outlier point seems to heavily skew the values. Below we can see a difference between the covariance matrices after excluding the outlier point."
   ]
  },
  {
   "cell_type": "code",
   "execution_count": 12,
   "id": "c5d36fc5",
   "metadata": {},
   "outputs": [
    {
     "data": {
      "text/html": [
       "<style  type=\"text/css\" >\n",
       "#T_aa6c9_row0_col0,#T_aa6c9_row0_col6,#T_aa6c9_row1_col1,#T_aa6c9_row1_col2,#T_aa6c9_row1_col5,#T_aa6c9_row1_col6,#T_aa6c9_row2_col1,#T_aa6c9_row2_col2,#T_aa6c9_row2_col5,#T_aa6c9_row3_col3,#T_aa6c9_row4_col4,#T_aa6c9_row4_col6,#T_aa6c9_row5_col1,#T_aa6c9_row5_col2,#T_aa6c9_row5_col5,#T_aa6c9_row6_col0,#T_aa6c9_row6_col1,#T_aa6c9_row6_col4,#T_aa6c9_row6_col6{\n",
       "            opacity:  20%;\n",
       "        }#T_aa6c9_row0_col1,#T_aa6c9_row0_col2,#T_aa6c9_row0_col5,#T_aa6c9_row1_col0,#T_aa6c9_row2_col0,#T_aa6c9_row2_col3,#T_aa6c9_row2_col6,#T_aa6c9_row3_col2,#T_aa6c9_row4_col5,#T_aa6c9_row5_col0,#T_aa6c9_row5_col4,#T_aa6c9_row5_col6,#T_aa6c9_row6_col2,#T_aa6c9_row6_col5{\n",
       "            color: red;\n",
       "            opacity:  20%;\n",
       "        }#T_aa6c9_row1_col3,#T_aa6c9_row1_col4,#T_aa6c9_row2_col4,#T_aa6c9_row3_col1,#T_aa6c9_row3_col5,#T_aa6c9_row3_col6,#T_aa6c9_row4_col1,#T_aa6c9_row4_col2,#T_aa6c9_row5_col3,#T_aa6c9_row6_col3{\n",
       "            color: red;\n",
       "        }</style><table id=\"T_aa6c9_\" ><caption>Covariance matrix difference</caption><thead>    <tr>        <th class=\"blank level0\" ></th>        <th class=\"col_heading level0 col0\" >A</th>        <th class=\"col_heading level0 col1\" >T</th>        <th class=\"col_heading level0 col2\" >S-Ne</th>        <th class=\"col_heading level0 col3\" >C</th>        <th class=\"col_heading level0 col4\" >P</th>        <th class=\"col_heading level0 col5\" >E</th>        <th class=\"col_heading level0 col6\" >Y</th>    </tr></thead><tbody>\n",
       "                <tr>\n",
       "                        <th id=\"T_aa6c9_level0_row0\" class=\"row_heading level0 row0\" >A</th>\n",
       "                        <td id=\"T_aa6c9_row0_col0\" class=\"data row0 col0\" >0.000000</td>\n",
       "                        <td id=\"T_aa6c9_row0_col1\" class=\"data row0 col1\" >-0.066000</td>\n",
       "                        <td id=\"T_aa6c9_row0_col2\" class=\"data row0 col2\" >-0.031282</td>\n",
       "                        <td id=\"T_aa6c9_row0_col3\" class=\"data row0 col3\" >0.365523</td>\n",
       "                        <td id=\"T_aa6c9_row0_col4\" class=\"data row0 col4\" >0.203331</td>\n",
       "                        <td id=\"T_aa6c9_row0_col5\" class=\"data row0 col5\" >-0.019968</td>\n",
       "                        <td id=\"T_aa6c9_row0_col6\" class=\"data row0 col6\" >0.013934</td>\n",
       "            </tr>\n",
       "            <tr>\n",
       "                        <th id=\"T_aa6c9_level0_row1\" class=\"row_heading level0 row1\" >T</th>\n",
       "                        <td id=\"T_aa6c9_row1_col0\" class=\"data row1 col0\" >-0.066000</td>\n",
       "                        <td id=\"T_aa6c9_row1_col1\" class=\"data row1 col1\" >0.000000</td>\n",
       "                        <td id=\"T_aa6c9_row1_col2\" class=\"data row1 col2\" >0.018584</td>\n",
       "                        <td id=\"T_aa6c9_row1_col3\" class=\"data row1 col3\" >-0.153595</td>\n",
       "                        <td id=\"T_aa6c9_row1_col4\" class=\"data row1 col4\" >-0.148471</td>\n",
       "                        <td id=\"T_aa6c9_row1_col5\" class=\"data row1 col5\" >0.039710</td>\n",
       "                        <td id=\"T_aa6c9_row1_col6\" class=\"data row1 col6\" >0.003948</td>\n",
       "            </tr>\n",
       "            <tr>\n",
       "                        <th id=\"T_aa6c9_level0_row2\" class=\"row_heading level0 row2\" >S-Ne</th>\n",
       "                        <td id=\"T_aa6c9_row2_col0\" class=\"data row2 col0\" >-0.031282</td>\n",
       "                        <td id=\"T_aa6c9_row2_col1\" class=\"data row2 col1\" >0.018584</td>\n",
       "                        <td id=\"T_aa6c9_row2_col2\" class=\"data row2 col2\" >0.000000</td>\n",
       "                        <td id=\"T_aa6c9_row2_col3\" class=\"data row2 col3\" >-0.055921</td>\n",
       "                        <td id=\"T_aa6c9_row2_col4\" class=\"data row2 col4\" >-0.100556</td>\n",
       "                        <td id=\"T_aa6c9_row2_col5\" class=\"data row2 col5\" >0.013772</td>\n",
       "                        <td id=\"T_aa6c9_row2_col6\" class=\"data row2 col6\" >-0.004591</td>\n",
       "            </tr>\n",
       "            <tr>\n",
       "                        <th id=\"T_aa6c9_level0_row3\" class=\"row_heading level0 row3\" >C</th>\n",
       "                        <td id=\"T_aa6c9_row3_col0\" class=\"data row3 col0\" >0.365523</td>\n",
       "                        <td id=\"T_aa6c9_row3_col1\" class=\"data row3 col1\" >-0.153595</td>\n",
       "                        <td id=\"T_aa6c9_row3_col2\" class=\"data row3 col2\" >-0.055921</td>\n",
       "                        <td id=\"T_aa6c9_row3_col3\" class=\"data row3 col3\" >0.000000</td>\n",
       "                        <td id=\"T_aa6c9_row3_col4\" class=\"data row3 col4\" >0.432473</td>\n",
       "                        <td id=\"T_aa6c9_row3_col5\" class=\"data row3 col5\" >-0.190792</td>\n",
       "                        <td id=\"T_aa6c9_row3_col6\" class=\"data row3 col6\" >-0.216995</td>\n",
       "            </tr>\n",
       "            <tr>\n",
       "                        <th id=\"T_aa6c9_level0_row4\" class=\"row_heading level0 row4\" >P</th>\n",
       "                        <td id=\"T_aa6c9_row4_col0\" class=\"data row4 col0\" >0.203331</td>\n",
       "                        <td id=\"T_aa6c9_row4_col1\" class=\"data row4 col1\" >-0.148471</td>\n",
       "                        <td id=\"T_aa6c9_row4_col2\" class=\"data row4 col2\" >-0.100556</td>\n",
       "                        <td id=\"T_aa6c9_row4_col3\" class=\"data row4 col3\" >0.432473</td>\n",
       "                        <td id=\"T_aa6c9_row4_col4\" class=\"data row4 col4\" >0.000000</td>\n",
       "                        <td id=\"T_aa6c9_row4_col5\" class=\"data row4 col5\" >-0.022345</td>\n",
       "                        <td id=\"T_aa6c9_row4_col6\" class=\"data row4 col6\" >0.010880</td>\n",
       "            </tr>\n",
       "            <tr>\n",
       "                        <th id=\"T_aa6c9_level0_row5\" class=\"row_heading level0 row5\" >E</th>\n",
       "                        <td id=\"T_aa6c9_row5_col0\" class=\"data row5 col0\" >-0.019968</td>\n",
       "                        <td id=\"T_aa6c9_row5_col1\" class=\"data row5 col1\" >0.039710</td>\n",
       "                        <td id=\"T_aa6c9_row5_col2\" class=\"data row5 col2\" >0.013772</td>\n",
       "                        <td id=\"T_aa6c9_row5_col3\" class=\"data row5 col3\" >-0.190792</td>\n",
       "                        <td id=\"T_aa6c9_row5_col4\" class=\"data row5 col4\" >-0.022345</td>\n",
       "                        <td id=\"T_aa6c9_row5_col5\" class=\"data row5 col5\" >0.000000</td>\n",
       "                        <td id=\"T_aa6c9_row5_col6\" class=\"data row5 col6\" >-0.010280</td>\n",
       "            </tr>\n",
       "            <tr>\n",
       "                        <th id=\"T_aa6c9_level0_row6\" class=\"row_heading level0 row6\" >Y</th>\n",
       "                        <td id=\"T_aa6c9_row6_col0\" class=\"data row6 col0\" >0.013934</td>\n",
       "                        <td id=\"T_aa6c9_row6_col1\" class=\"data row6 col1\" >0.003948</td>\n",
       "                        <td id=\"T_aa6c9_row6_col2\" class=\"data row6 col2\" >-0.004591</td>\n",
       "                        <td id=\"T_aa6c9_row6_col3\" class=\"data row6 col3\" >-0.216995</td>\n",
       "                        <td id=\"T_aa6c9_row6_col4\" class=\"data row6 col4\" >0.010880</td>\n",
       "                        <td id=\"T_aa6c9_row6_col5\" class=\"data row6 col5\" >-0.010280</td>\n",
       "                        <td id=\"T_aa6c9_row6_col6\" class=\"data row6 col6\" >0.000000</td>\n",
       "            </tr>\n",
       "    </tbody></table>"
      ],
      "text/plain": [
       "<pandas.io.formats.style.Styler at 0x7efc4ccee610>"
      ]
     },
     "execution_count": 12,
     "metadata": {},
     "output_type": "execute_result"
    }
   ],
   "source": [
    "diff = data.corr() - data.drop(1, axis=0).corr()\n",
    "\n",
    "def style_negative(v, props=''):\n",
    "    return props if v < 0 else None\n",
    "diff = diff.style.set_caption(\"Covariance matrix difference\")\\\n",
    "                 .applymap(style_negative, props='color:red;')\\\n",
    "                 .applymap(lambda v: 'opacity: 20%;' if (v < 0.1) and (v > -0.1) else None)\n",
    "diff"
   ]
  },
  {
   "cell_type": "markdown",
   "id": "d779f22f",
   "metadata": {},
   "source": [
    "For example, the outlier point has both a very high pre-wetness and echo coverage indicators relative to the other data points. Therefore, it makes the echo coverage and pre-wetness look much more correlated than they actually are."
   ]
  },
  {
   "cell_type": "code",
   "execution_count": 74,
   "id": "0dca9271",
   "metadata": {},
   "outputs": [
    {
     "data": {
      "image/png": "[encoded data removed]",
      "text/plain": [
       "<Figure size 1080x288 with 2 Axes>"
      ]
     },
     "metadata": {
      "needs_background": "light"
     },
     "output_type": "display_data"
    }
   ],
   "source": [
    "f = plt.figure(figsize=(15, 4))\n",
    "\n",
    "ax1 = f.add_subplot(121)\n",
    "ax2 = f.add_subplot(122)\n",
    "\n",
    "ax1.scatter(data['P'], data['C'], label='_nolegend_')\n",
    "ax1.scatter([data['P'][1]], [data['C'][1]], color='r')\n",
    "\n",
    "ax1.legend([\"Outlier point\"])\n",
    "\n",
    "ax2.scatter(data.drop(1, axis=0)['P'], data.drop(1, axis=0)['C'])\n",
    "\n",
    "ax1.set_title(\"With outlier point (p={:.3f})\".format(data.corr()['P']['C']))\n",
    "ax2.set_title(\"Without outlier point (p={:.3f})\".format(data.drop(1, axis=0).corr()['P']['C']))\n",
    "\n",
    "ax1.set_xlabel(\"Echo coverage\")\n",
    "ax1.set_ylabel(\"Pre-wetness\")\n",
    "\n",
    "ax2.set_xlabel(\"Echo coverage\")\n",
    "ax2.set_ylabel(\"Pre-wetness\")\n",
    "\n",
    "plt.show()"
   ]
  },
  {
   "cell_type": "markdown",
   "id": "6c7c9beb",
   "metadata": {},
   "source": [
    "Therefore, we'll exclude the outlier point from the analysis going forward."
   ]
  },
  {
   "cell_type": "code",
   "execution_count": 16,
   "id": "6b62a324",
   "metadata": {},
   "outputs": [
    {
     "data": {
      "text/html": [
       "<style  type=\"text/css\" >\n",
       "#T_06791_row0_col0,#T_06791_row0_col1,#T_06791_row0_col2,#T_06791_row0_col5,#T_06791_row0_col6,#T_06791_row1_col0,#T_06791_row1_col1,#T_06791_row1_col4,#T_06791_row1_col5,#T_06791_row2_col0,#T_06791_row2_col2,#T_06791_row2_col3,#T_06791_row2_col4,#T_06791_row2_col5,#T_06791_row3_col2,#T_06791_row3_col3,#T_06791_row3_col5,#T_06791_row4_col1,#T_06791_row4_col2,#T_06791_row4_col4,#T_06791_row4_col5,#T_06791_row4_col6,#T_06791_row5_col0,#T_06791_row5_col1,#T_06791_row5_col2,#T_06791_row5_col3,#T_06791_row5_col4,#T_06791_row5_col5,#T_06791_row6_col0,#T_06791_row6_col4,#T_06791_row6_col6{\n",
       "            opacity:  20%;\n",
       "        }</style><table id=\"T_06791_\" ><thead>    <tr>        <th class=\"blank level0\" ></th>        <th class=\"col_heading level0 col0\" >A</th>        <th class=\"col_heading level0 col1\" >T</th>        <th class=\"col_heading level0 col2\" >S-Ne</th>        <th class=\"col_heading level0 col3\" >C</th>        <th class=\"col_heading level0 col4\" >P</th>        <th class=\"col_heading level0 col5\" >E</th>        <th class=\"col_heading level0 col6\" >Y</th>    </tr></thead><tbody>\n",
       "                <tr>\n",
       "                        <th id=\"T_06791_level0_row0\" class=\"row_heading level0 row0\" >A</th>\n",
       "                        <td id=\"T_06791_row0_col0\" class=\"data row0 col0\" >1.000000</td>\n",
       "                        <td id=\"T_06791_row0_col1\" class=\"data row0 col1\" >0.049266</td>\n",
       "                        <td id=\"T_06791_row0_col2\" class=\"data row0 col2\" >0.143097</td>\n",
       "                        <td id=\"T_06791_row0_col3\" class=\"data row0 col3\" >-0.304126</td>\n",
       "                        <td id=\"T_06791_row0_col4\" class=\"data row0 col4\" >-0.280692</td>\n",
       "                        <td id=\"T_06791_row0_col5\" class=\"data row0 col5\" >-0.000000</td>\n",
       "                        <td id=\"T_06791_row0_col6\" class=\"data row0 col6\" >0.052267</td>\n",
       "            </tr>\n",
       "            <tr>\n",
       "                        <th id=\"T_06791_level0_row1\" class=\"row_heading level0 row1\" >T</th>\n",
       "                        <td id=\"T_06791_row1_col0\" class=\"data row1 col0\" >0.049266</td>\n",
       "                        <td id=\"T_06791_row1_col1\" class=\"data row1 col1\" >1.000000</td>\n",
       "                        <td id=\"T_06791_row1_col2\" class=\"data row1 col2\" >0.389507</td>\n",
       "                        <td id=\"T_06791_row1_col3\" class=\"data row1 col3\" >-0.207756</td>\n",
       "                        <td id=\"T_06791_row1_col4\" class=\"data row1 col4\" >-0.182628</td>\n",
       "                        <td id=\"T_06791_row1_col5\" class=\"data row1 col5\" >-0.183561</td>\n",
       "                        <td id=\"T_06791_row1_col6\" class=\"data row1 col6\" >-0.526001</td>\n",
       "            </tr>\n",
       "            <tr>\n",
       "                        <th id=\"T_06791_level0_row2\" class=\"row_heading level0 row2\" >S-Ne</th>\n",
       "                        <td id=\"T_06791_row2_col0\" class=\"data row2 col0\" >0.143097</td>\n",
       "                        <td id=\"T_06791_row2_col1\" class=\"data row2 col1\" >0.389507</td>\n",
       "                        <td id=\"T_06791_row2_col2\" class=\"data row2 col2\" >1.000000</td>\n",
       "                        <td id=\"T_06791_row2_col3\" class=\"data row2 col3\" >-0.109868</td>\n",
       "                        <td id=\"T_06791_row2_col4\" class=\"data row2 col4\" >0.060708</td>\n",
       "                        <td id=\"T_06791_row2_col5\" class=\"data row2 col5\" >-0.060125</td>\n",
       "                        <td id=\"T_06791_row2_col6\" class=\"data row2 col6\" >-0.454980</td>\n",
       "            </tr>\n",
       "            <tr>\n",
       "                        <th id=\"T_06791_level0_row3\" class=\"row_heading level0 row3\" >C</th>\n",
       "                        <td id=\"T_06791_row3_col0\" class=\"data row3 col0\" >-0.304126</td>\n",
       "                        <td id=\"T_06791_row3_col1\" class=\"data row3 col1\" >-0.207756</td>\n",
       "                        <td id=\"T_06791_row3_col2\" class=\"data row3 col2\" >-0.109868</td>\n",
       "                        <td id=\"T_06791_row3_col3\" class=\"data row3 col3\" >1.000000</td>\n",
       "                        <td id=\"T_06791_row3_col4\" class=\"data row3 col4\" >0.228380</td>\n",
       "                        <td id=\"T_06791_row3_col5\" class=\"data row3 col5\" >0.174138</td>\n",
       "                        <td id=\"T_06791_row3_col6\" class=\"data row3 col6\" >0.487113</td>\n",
       "            </tr>\n",
       "            <tr>\n",
       "                        <th id=\"T_06791_level0_row4\" class=\"row_heading level0 row4\" >P</th>\n",
       "                        <td id=\"T_06791_row4_col0\" class=\"data row4 col0\" >-0.280692</td>\n",
       "                        <td id=\"T_06791_row4_col1\" class=\"data row4 col1\" >-0.182628</td>\n",
       "                        <td id=\"T_06791_row4_col2\" class=\"data row4 col2\" >0.060708</td>\n",
       "                        <td id=\"T_06791_row4_col3\" class=\"data row4 col3\" >0.228380</td>\n",
       "                        <td id=\"T_06791_row4_col4\" class=\"data row4 col4\" >1.000000</td>\n",
       "                        <td id=\"T_06791_row4_col5\" class=\"data row4 col5\" >-0.169745</td>\n",
       "                        <td id=\"T_06791_row4_col6\" class=\"data row4 col6\" >0.155292</td>\n",
       "            </tr>\n",
       "            <tr>\n",
       "                        <th id=\"T_06791_level0_row5\" class=\"row_heading level0 row5\" >E</th>\n",
       "                        <td id=\"T_06791_row5_col0\" class=\"data row5 col0\" >-0.000000</td>\n",
       "                        <td id=\"T_06791_row5_col1\" class=\"data row5 col1\" >-0.183561</td>\n",
       "                        <td id=\"T_06791_row5_col2\" class=\"data row5 col2\" >-0.060125</td>\n",
       "                        <td id=\"T_06791_row5_col3\" class=\"data row5 col3\" >0.174138</td>\n",
       "                        <td id=\"T_06791_row5_col4\" class=\"data row5 col4\" >-0.169745</td>\n",
       "                        <td id=\"T_06791_row5_col5\" class=\"data row5 col5\" >1.000000</td>\n",
       "                        <td id=\"T_06791_row5_col6\" class=\"data row5 col6\" >0.398254</td>\n",
       "            </tr>\n",
       "            <tr>\n",
       "                        <th id=\"T_06791_level0_row6\" class=\"row_heading level0 row6\" >Y</th>\n",
       "                        <td id=\"T_06791_row6_col0\" class=\"data row6 col0\" >0.052267</td>\n",
       "                        <td id=\"T_06791_row6_col1\" class=\"data row6 col1\" >-0.526001</td>\n",
       "                        <td id=\"T_06791_row6_col2\" class=\"data row6 col2\" >-0.454980</td>\n",
       "                        <td id=\"T_06791_row6_col3\" class=\"data row6 col3\" >0.487113</td>\n",
       "                        <td id=\"T_06791_row6_col4\" class=\"data row6 col4\" >0.155292</td>\n",
       "                        <td id=\"T_06791_row6_col5\" class=\"data row6 col5\" >0.398254</td>\n",
       "                        <td id=\"T_06791_row6_col6\" class=\"data row6 col6\" >1.000000</td>\n",
       "            </tr>\n",
       "    </tbody></table>"
      ],
      "text/plain": [
       "<pandas.io.formats.style.Styler at 0x7efc4c1b0490>"
      ]
     },
     "execution_count": 16,
     "metadata": {},
     "output_type": "execute_result"
    }
   ],
   "source": [
    "dataWO = data.drop(1, axis=0)\n",
    "\n",
    "dataWO.corr().style.applymap(lambda v: 'opacity: 20%;' if ((v < 0.2) and (v > -0.2)) or (v == 1) else None)"
   ]
  },
  {
   "cell_type": "code",
   "execution_count": 15,
   "id": "f8498054",
   "metadata": {},
   "outputs": [
    {
     "data": {
      "image/png": "[encoded data removed]",
      "text/plain": [
       "<Figure size 576x576 with 2 Axes>"
      ]
     },
     "metadata": {
      "needs_background": "light"
     },
     "output_type": "display_data"
    }
   ],
   "source": [
    "plot_corr(dataWO)"
   ]
  },
  {
   "cell_type": "markdown",
   "id": "394337cd",
   "metadata": {},
   "source": [
    "We'll continue by analysing the covariance between the explanatory variables and the response variable.\n",
    "\n",
    "## 2.2 Echo motion is insignificant\n",
    "\n",
    "The echo indicator seems to be somewhat correlated to the response variable, but this is a bit misleading since only 17\\% percent of the data points have a stationary radar echo. We can't say much with so few stationary data points, but it looks like the echo motion does not really influence the amount of rain $Y$. As a result, the echo motion feature will be dropped going forward."
   ]
  },
  {
   "cell_type": "code",
   "execution_count": 52,
   "id": "64f1f7c9",
   "metadata": {},
   "outputs": [
    {
     "data": {
      "image/png": "[encoded data removed]",
      "text/plain": [
       "<Figure size 432x288 with 1 Axes>"
      ]
     },
     "metadata": {
      "needs_background": "light"
     },
     "output_type": "display_data"
    }
   ],
   "source": [
    "fig, ax = plt.subplots()\n",
    "\n",
    "ax.scatter(dataWO[dataWO['E'] == 1]['E'], dataWO[dataWO['E'] == 1]['Y'])\n",
    "ax.scatter(dataWO[dataWO['E'] == 2]['E'], dataWO[dataWO['E'] == 2]['Y'])\n",
    "ax.legend((\"Moving echo\", \"Stationary echo\"))\n",
    "\n",
    "ax.set_title(\"Echo motion (E) vs amount of rainfall (Y)\")\n",
    "ax.set_xlabel(\"Echo motion (E)\")\n",
    "ax.set_ylabel(\"Amount of rainfall (Y)\")\n",
    "\n",
    "plt.show()"
   ]
  },
  {
   "cell_type": "code",
   "execution_count": 86,
   "id": "268168f8",
   "metadata": {},
   "outputs": [],
   "source": [
    "dataWO = dataWO.drop('E', axis=1)"
   ]
  },
  {
   "cell_type": "markdown",
   "id": "ea5ff3b9",
   "metadata": {},
   "source": [
    "## 2.3 Action indicator"
   ]
  },
  {
   "cell_type": "code",
   "execution_count": 103,
   "id": "539b5621",
   "metadata": {},
   "outputs": [
    {
     "data": {
      "text/plain": [
       "Text(0.5, 1.0, 'ASD')"
      ]
     },
     "execution_count": 103,
     "metadata": {},
     "output_type": "execute_result"
    },
    {
     "data": {
      "image/png": "[encoded data removed]",
      "text/plain": [
       "<Figure size 432x288 with 1 Axes>"
      ]
     },
     "metadata": {
      "needs_background": "light"
     },
     "output_type": "display_data"
    }
   ],
   "source": [
    "plt.scatter(dataWO['A'], dataWO['C'])"
   ]
  },
  {
   "cell_type": "code",
   "execution_count": 75,
   "id": "533bfd3e",
   "metadata": {},
   "outputs": [
    {
     "data": {
      "text/plain": [
       "<matplotlib.collections.PathCollection at 0x7efc4b7b8c10>"
      ]
     },
     "execution_count": 75,
     "metadata": {},
     "output_type": "execute_result"
    },
    {
     "data": {
      "image/png": "[encoded data removed]",
      "text/plain": [
       "<Figure size 432x288 with 1 Axes>"
      ]
     },
     "metadata": {
      "needs_background": "light"
     },
     "output_type": "display_data"
    }
   ],
   "source": [
    "plt.scatter(dataWO['A'], dataWO['P'])"
   ]
  },
  {
   "cell_type": "markdown",
   "id": "719a247e",
   "metadata": {},
   "source": [
    "## 2.4 Time, Suitability Criterion and Cloud Coverage"
   ]
  },
  {
   "cell_type": "code",
   "execution_count": null,
   "id": "dc28b75d",
   "metadata": {},
   "outputs": [],
   "source": []
  },
  {
   "cell_type": "code",
   "execution_count": 114,
   "id": "df9576ab",
   "metadata": {},
   "outputs": [
    {
     "data": {
      "image/png": "[encoded data removed]",
      "text/plain": [
       "<Figure size 1080x288 with 2 Axes>"
      ]
     },
     "metadata": {
      "needs_background": "light"
     },
     "output_type": "display_data"
    }
   ],
   "source": [
    "f = plt.figure(figsize=(15, 4))\n",
    "\n",
    "ax1 = f.add_subplot(121)\n",
    "ax2 = f.add_subplot(122)\n",
    "\n",
    "ax1.scatter(dataWO['T'], dataWO['S-Ne'])\n",
    "ax2.scatter(dataWO['T'], dataWO['C'])\n",
    "\n",
    "ax1.set_title(\"Time vs Suitability criterion (p={:.3f})\".format(dataWO.corr()['T']['S-Ne']))\n",
    "ax2.set_title(\"Time vs Cloud coverage (p={:.3f})\".format(dataWO.corr()['T']['C']))\n",
    "\n",
    "ax1.set_xlabel(\"Time (T)\")\n",
    "ax1.set_ylabel(\"Suitability criterion (S-Ne)\")\n",
    "\n",
    "ax2.set_xlabel(\"Time (T)\")\n",
    "ax2.set_ylabel(\"Cloud coverage (C)\")\n",
    "\n",
    "plt.show()"
   ]
  },
  {
   "cell_type": "code",
   "execution_count": null,
   "id": "057bfb9d",
   "metadata": {},
   "outputs": [],
   "source": []
  },
  {
   "cell_type": "markdown",
   "id": "0b5bda7d",
   "metadata": {},
   "source": [
    "# 3. Regression model"
   ]
  },
  {
   "cell_type": "code",
   "execution_count": 102,
   "id": "fdd219a2",
   "metadata": {},
   "outputs": [
    {
     "data": {
      "text/plain": [
       "0.5585849269259731"
      ]
     },
     "execution_count": 102,
     "metadata": {},
     "output_type": "execute_result"
    }
   ],
   "source": [
    "X = dataWO.drop('Y', axis=1)\n",
    "Y = dataWO['Y']\n",
    "\n",
    "reg = LinearRegression().fit(X, Y)\n",
    "\n",
    "reg.score(X, Y)"
   ]
  }
 ],
 "metadata": {
  "interpreter": {
   "hash": "2a2a14d4cef77e48f85c46fc3a1526156aee6b4c6ff081a4298acef9abf34510"
  },
  "kernelspec": {
   "display_name": "data_science",
   "language": "python",
   "name": "data_science"
  },
  "language_info": {
   "codemirror_mode": {
    "name": "ipython",
    "version": 3
   },
   "file_extension": ".py",
   "mimetype": "text/x-python",
   "name": "python",
   "nbconvert_exporter": "python",
   "pygments_lexer": "ipython3",
   "version": "3.8.2"
  }
 },
 "nbformat": 4,
 "nbformat_minor": 5
}

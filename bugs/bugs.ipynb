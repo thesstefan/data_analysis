{
 "cells": [
  {
   "cell_type": "markdown",
   "id": "246ea341",
   "metadata": {},
   "source": [
    "# Song of Insects\n",
    "\n",
    "The goal of this analysis is to decide if there is a relationship between the sounds (\"songs\") produced by crickets and the temperature of the soil. To analyze this hypothesis, a dataset describing the behaviour of two crickets is provided. \n",
    "\n",
    "## 1. Data Description\n",
    "\n",
    "The data set contains 20 observations, each having measurements for the soil temperature (degrees F) and the number of pulses per second detected when examining one of the crickets, along with an identifier specifying the examined cricket. The possible identifiers are 'R' and 'B', which shall be used going forward to refer to a specific cricket."
   ]
  },
  {
   "cell_type": "code",
   "execution_count": 21,
   "id": "684fea3d",
   "metadata": {},
   "outputs": [],
   "source": [
    "%matplotlib inline\n",
    "\n",
    "import pandas as pd\n",
    "import matplotlib.pyplot as plt\n",
    "import matplotlib.patches\n",
    "import numpy as np\n",
    "\n",
    "data = pd.read_csv('data.csv')"
   ]
  },
  {
   "cell_type": "code",
   "execution_count": 2,
   "id": "45021e00",
   "metadata": {},
   "outputs": [
    {
     "data": {
      "text/html": [
       "<div>\n",
       "<style scoped>\n",
       "    .dataframe tbody tr th:only-of-type {\n",
       "        vertical-align: middle;\n",
       "    }\n",
       "\n",
       "    .dataframe tbody tr th {\n",
       "        vertical-align: top;\n",
       "    }\n",
       "\n",
       "    .dataframe thead th {\n",
       "        text-align: right;\n",
       "    }\n",
       "</style>\n",
       "<table border=\"1\" class=\"dataframe\">\n",
       "  <thead>\n",
       "    <tr style=\"text-align: right;\">\n",
       "      <th></th>\n",
       "      <th>Cricket</th>\n",
       "      <th>Pulses</th>\n",
       "      <th>Temperature</th>\n",
       "    </tr>\n",
       "  </thead>\n",
       "  <tbody>\n",
       "    <tr>\n",
       "      <th>0</th>\n",
       "      <td>B</td>\n",
       "      <td>15.70</td>\n",
       "      <td>71.6</td>\n",
       "    </tr>\n",
       "    <tr>\n",
       "      <th>1</th>\n",
       "      <td>B</td>\n",
       "      <td>15.00</td>\n",
       "      <td>73.5</td>\n",
       "    </tr>\n",
       "    <tr>\n",
       "      <th>2</th>\n",
       "      <td>R</td>\n",
       "      <td>20.00</td>\n",
       "      <td>88.6</td>\n",
       "    </tr>\n",
       "    <tr>\n",
       "      <th>3</th>\n",
       "      <td>R</td>\n",
       "      <td>16.00</td>\n",
       "      <td>71.6</td>\n",
       "    </tr>\n",
       "    <tr>\n",
       "      <th>4</th>\n",
       "      <td>R</td>\n",
       "      <td>19.80</td>\n",
       "      <td>93.3</td>\n",
       "    </tr>\n",
       "    <tr>\n",
       "      <th>5</th>\n",
       "      <td>R</td>\n",
       "      <td>18.40</td>\n",
       "      <td>84.3</td>\n",
       "    </tr>\n",
       "    <tr>\n",
       "      <th>6</th>\n",
       "      <td>R</td>\n",
       "      <td>17.10</td>\n",
       "      <td>80.6</td>\n",
       "    </tr>\n",
       "    <tr>\n",
       "      <th>7</th>\n",
       "      <td>B</td>\n",
       "      <td>18.40</td>\n",
       "      <td>96.8</td>\n",
       "    </tr>\n",
       "    <tr>\n",
       "      <th>8</th>\n",
       "      <td>B</td>\n",
       "      <td>19.20</td>\n",
       "      <td>89.6</td>\n",
       "    </tr>\n",
       "    <tr>\n",
       "      <th>9</th>\n",
       "      <td>B</td>\n",
       "      <td>15.20</td>\n",
       "      <td>79.7</td>\n",
       "    </tr>\n",
       "    <tr>\n",
       "      <th>10</th>\n",
       "      <td>R</td>\n",
       "      <td>15.50</td>\n",
       "      <td>75.2</td>\n",
       "    </tr>\n",
       "    <tr>\n",
       "      <th>11</th>\n",
       "      <td>R</td>\n",
       "      <td>14.70</td>\n",
       "      <td>69.7</td>\n",
       "    </tr>\n",
       "    <tr>\n",
       "      <th>12</th>\n",
       "      <td>R</td>\n",
       "      <td>17.06</td>\n",
       "      <td>82.0</td>\n",
       "    </tr>\n",
       "    <tr>\n",
       "      <th>13</th>\n",
       "      <td>R</td>\n",
       "      <td>15.40</td>\n",
       "      <td>69.4</td>\n",
       "    </tr>\n",
       "    <tr>\n",
       "      <th>14</th>\n",
       "      <td>R</td>\n",
       "      <td>16.25</td>\n",
       "      <td>83.3</td>\n",
       "    </tr>\n",
       "    <tr>\n",
       "      <th>15</th>\n",
       "      <td>R</td>\n",
       "      <td>15.00</td>\n",
       "      <td>79.6</td>\n",
       "    </tr>\n",
       "    <tr>\n",
       "      <th>16</th>\n",
       "      <td>R</td>\n",
       "      <td>17.24</td>\n",
       "      <td>82.6</td>\n",
       "    </tr>\n",
       "    <tr>\n",
       "      <th>17</th>\n",
       "      <td>R</td>\n",
       "      <td>16.00</td>\n",
       "      <td>80.6</td>\n",
       "    </tr>\n",
       "    <tr>\n",
       "      <th>18</th>\n",
       "      <td>R</td>\n",
       "      <td>17.00</td>\n",
       "      <td>83.5</td>\n",
       "    </tr>\n",
       "    <tr>\n",
       "      <th>19</th>\n",
       "      <td>R</td>\n",
       "      <td>14.40</td>\n",
       "      <td>76.3</td>\n",
       "    </tr>\n",
       "  </tbody>\n",
       "</table>\n",
       "</div>"
      ],
      "text/plain": [
       "   Cricket  Pulses  Temperature\n",
       "0        B   15.70         71.6\n",
       "1        B   15.00         73.5\n",
       "2        R   20.00         88.6\n",
       "3        R   16.00         71.6\n",
       "4        R   19.80         93.3\n",
       "5        R   18.40         84.3\n",
       "6        R   17.10         80.6\n",
       "7        B   18.40         96.8\n",
       "8        B   19.20         89.6\n",
       "9        B   15.20         79.7\n",
       "10       R   15.50         75.2\n",
       "11       R   14.70         69.7\n",
       "12       R   17.06         82.0\n",
       "13       R   15.40         69.4\n",
       "14       R   16.25         83.3\n",
       "15       R   15.00         79.6\n",
       "16       R   17.24         82.6\n",
       "17       R   16.00         80.6\n",
       "18       R   17.00         83.5\n",
       "19       R   14.40         76.3"
      ]
     },
     "execution_count": 2,
     "metadata": {},
     "output_type": "execute_result"
    }
   ],
   "source": [
    "data"
   ]
  },
  {
   "cell_type": "code",
   "execution_count": 3,
   "id": "5c8d9a0c",
   "metadata": {},
   "outputs": [
    {
     "data": {
      "image/png": "[encoded data removed]",
      "text/plain": [
       "<Figure size 432x288 with 1 Axes>"
      ]
     },
     "metadata": {
      "needs_background": "light"
     },
     "output_type": "display_data"
    }
   ],
   "source": [
    "plt.plot(data[data['Cricket'] == 'R']['Temperature'], data[data['Cricket'] == 'R']['Pulses'], 'ro')\n",
    "plt.plot(data[data['Cricket'] == 'B']['Temperature'], data[data['Cricket'] == 'B']['Pulses'], 'bo')\n",
    "\n",
    "plt.ylabel('Pulses (per second)')\n",
    "plt.xlabel('Temperature (F)')\n",
    "\n",
    "plt.title(\"Temperature vs Pulses\")\n",
    "plt.show()"
   ]
  },
  {
   "cell_type": "markdown",
   "id": "a8b202b7",
   "metadata": {},
   "source": [
    "Based on observations of the data distributions, shown in the scatter plot, we can assume that there is no meaningful between the two individual crickets 'R' and 'B' and that they have the same distribution over temperature\n",
    "and the number of pulses."
   ]
  },
  {
   "cell_type": "code",
   "execution_count": 4,
   "id": "8234242b",
   "metadata": {},
   "outputs": [
    {
     "data": {
      "image/png": "[encoded data removed]",
      "text/plain": [
       "<Figure size 432x288 with 1 Axes>"
      ]
     },
     "metadata": {
      "needs_background": "light"
     },
     "output_type": "display_data"
    }
   ],
   "source": [
    "plt.hist(data['Temperature'])\n",
    "\n",
    "plt.xlabel('Temperature')\n",
    "plt.ylabel('Occurences')\n",
    "\n",
    "plt.title(\"Histogram of temperature values\")\n",
    "\n",
    "plt.show()"
   ]
  },
  {
   "cell_type": "code",
   "execution_count": 5,
   "id": "71e3985b",
   "metadata": {},
   "outputs": [
    {
     "name": "stdout",
     "output_type": "stream",
     "text": [
      "Minimum temperature: 69.4\n",
      "Maximum temperature: 96.8\n"
     ]
    }
   ],
   "source": [
    "print(f\"Minimum temperature: {data['Temperature'].min()}\")\n",
    "print(f\"Maximum temperature: {data['Temperature'].max()}\")"
   ]
  },
  {
   "cell_type": "markdown",
   "id": "ef0afc44",
   "metadata": {},
   "source": [
    "The temperature values are bounded by the range 69.4-96.8, which gives the confidence interval of the analysis. The temperature distribution might not be uniform, but the values are spread enough that linear regression would be feasible."
   ]
  },
  {
   "cell_type": "code",
   "execution_count": 6,
   "id": "c8f03cd0",
   "metadata": {
    "scrolled": true
   },
   "outputs": [
    {
     "data": {
      "image/png": "[encoded data removed]",
      "text/plain": [
       "<Figure size 432x288 with 1 Axes>"
      ]
     },
     "metadata": {
      "needs_background": "light"
     },
     "output_type": "display_data"
    }
   ],
   "source": [
    "plt.hist(data['Pulses'])\n",
    "\n",
    "plt.ylabel('Occurences')\n",
    "plt.xlabel('Pulses per second')\n",
    "\n",
    "plt.title(\"Histogram of pulse numbers\")\n",
    "\n",
    "plt.show()"
   ]
  },
  {
   "cell_type": "markdown",
   "id": "e458acfe",
   "metadata": {},
   "source": [
    "# 2. Correlation and linear regression"
   ]
  },
  {
   "cell_type": "code",
   "execution_count": 7,
   "id": "8e831bbf",
   "metadata": {},
   "outputs": [
    {
     "name": "stdout",
     "output_type": "stream",
     "text": [
      "Correlation\n",
      "               Pulses  Temperature\n",
      "Pulses       1.000000     0.829501\n",
      "Temperature  0.829501     1.000000\n"
     ]
    }
   ],
   "source": [
    "print(\"Correlation\", data.corr(), sep='\\n')"
   ]
  },
  {
   "cell_type": "markdown",
   "id": "c9ef2d8c",
   "metadata": {},
   "source": [
    "What attracts attention straight away is the relatively high value of Pearson's correlation coefficient (0.82). \n",
    "\n",
    "This indicates that the temperature and number of pulses are strongly linearly correlated, so the variables have the tendency of being simultaneously smaller or greater than their respective means. \n",
    "\n",
    "Even more, this strong correlation implies that linear regression can be used as a predictive model for the observed data set. Therefore, the next step is to model this relationship by using a regression model, fit using the least squares approach. In this case, \n",
    "the goal would be to forecast the number of cricket pulses per second, given the temperature of the soil."
   ]
  },
  {
   "cell_type": "code",
   "execution_count": 8,
   "id": "cc730546",
   "metadata": {},
   "outputs": [
    {
     "data": {
      "image/png": "[encoded data removed]",
      "text/plain": [
       "<Figure size 432x288 with 1 Axes>"
      ]
     },
     "metadata": {
      "needs_background": "light"
     },
     "output_type": "display_data"
    }
   ],
   "source": [
    "plt.plot(data[data['Cricket'] == 'R']['Temperature'], data[data['Cricket'] == 'R']['Pulses'], 'ro')\n",
    "plt.plot(data[data['Cricket'] == 'B']['Temperature'], data[data['Cricket'] == 'B']['Pulses'], 'bo')\n",
    "\n",
    "plt.ylabel('Number of pulses per second')\n",
    "plt.xlabel('Temperature (F)')\n",
    "\n",
    "X = np.column_stack((np.ones(len(data['Temperature'])).T, data['Temperature']))\n",
    "t = data['Pulses']\n",
    "\n",
    "w = np.linalg.inv(X.T @ X) @ X.T @ t\n",
    "y = [w.T @ x for x in X]\n",
    "\n",
    "plt.plot(data['Temperature'], y)\n",
    "\n",
    "plt.show()"
   ]
  },
  {
   "cell_type": "code",
   "execution_count": 35,
   "id": "3c6733f3",
   "metadata": {},
   "outputs": [
    {
     "name": "stdout",
     "output_type": "stream",
     "text": [
      "Pulses prediction for a temperature of 90F: 18.417638556365684\n"
     ]
    }
   ],
   "source": [
    "print(f\"Pulses prediction for a temperature of 90F: {w.T @ (1, 90)}\")"
   ]
  },
  {
   "cell_type": "markdown",
   "id": "218e21f6",
   "metadata": {},
   "source": [
    "For example, the model will predict that for a temperature of 90F, the crickets will make on average around 18.4 pulses per second."
   ]
  },
  {
   "cell_type": "code",
   "execution_count": 40,
   "id": "857ad3b3",
   "metadata": {},
   "outputs": [
    {
     "name": "stdout",
     "output_type": "stream",
     "text": [
      "Coefficient of determination: 0.6880721804524228\n",
      "Mean absolute error (MAE): 0.05\n"
     ]
    }
   ],
   "source": [
    "mae = 0\n",
    "residual_sum, total_sum = 0, 0\n",
    "\n",
    "for _, row in data.iterrows():\n",
    "    residual_sum += (w.T @ (1, row['Temperature']) - row['Pulses'])  ** 2\n",
    "    total_sum += (row['Pulses'] - data['Pulses'].mean()) ** 2\n",
    "    \n",
    "    mae += abs(row['Pulses'] - w.T @ (1, row['Temperature']))\n",
    "    \n",
    "R_squared = 1 - residual_sum / total_sum\n",
    "mae = 1 / len(data)\n",
    "\n",
    "print(f\"Coefficient of determination: {R_squared}\")\n",
    "print(f\"Mean absolute error (MAE): {mae}\")"
   ]
  },
  {
   "cell_type": "markdown",
   "id": "813e9e25",
   "metadata": {},
   "source": [
    "With a coefficient of determination $R^2$ of 0.688, the model seems to fit the data quite well. The MAE of 0.05 shows that on average, a prediction will have an error of about 0.05 pulses per second. "
   ]
  },
  {
   "cell_type": "code",
   "execution_count": 51,
   "id": "7496d1bf",
   "metadata": {
    "scrolled": true
   },
   "outputs": [
    {
     "data": {
      "image/png": "[encoded data removed]",
      "text/plain": [
       "<Figure size 432x288 with 1 Axes>"
      ]
     },
     "metadata": {
      "needs_background": "light"
     },
     "output_type": "display_data"
    }
   ],
   "source": [
    "plt.plot(data[data['Cricket'] == 'R']['Temperature'], data[data['Cricket'] == 'R']['Pulses'], 'ro')\n",
    "plt.plot(data[data['Cricket'] == 'B']['Temperature'], data[data['Cricket'] == 'B']['Pulses'], 'bo')\n",
    "\n",
    "plt.ylabel('Pulses (per second)')\n",
    "plt.xlabel('Temperature (F)')\n",
    "plt.title('Accuracy of predictions by temperature interval')\n",
    "\n",
    "plt.xlim(20, 140)\n",
    "rect = matplotlib.patches.Rectangle((20, 5), 30, 30, \n",
    "                        alpha=0.1,\n",
    "                        facecolor=\"red\")\n",
    "plt.gca().add_patch(rect)\n",
    "\n",
    "rect = matplotlib.patches.Rectangle((50, 5), 19.4, 30, \n",
    "                        alpha=0.1,\n",
    "                        facecolor=\"orange\")\n",
    "plt.gca().add_patch(rect)\n",
    "\n",
    "rect = matplotlib.patches.Rectangle((69.4, 5), 27.4, 30, \n",
    "                        alpha=0.1,\n",
    "                        facecolor=\"green\")\n",
    "plt.gca().add_patch(rect)\n",
    "\n",
    "rect = matplotlib.patches.Rectangle((96.8, 5), 13.2, 30, \n",
    "                        alpha=0.1,\n",
    "                        facecolor=\"orange\")\n",
    "plt.gca().add_patch(rect)\n",
    "\n",
    "rect = matplotlib.patches.Rectangle((110, 5), 30, 30, \n",
    "                        alpha=0.1,\n",
    "                        facecolor=\"red\")\n",
    "plt.gca().add_patch(rect)\n",
    "\n",
    "plt.plot(data['Temperature'], y)\n",
    "\n",
    "plt.show()"
   ]
  },
  {
   "cell_type": "markdown",
   "id": "f4f00490",
   "metadata": {},
   "source": [
    "The $R^2$ and the MAE measurements show that the linear regression model fits quite well for the data set, so values predicted by interpolating should be fairly accurate.\n",
    "However, since crickets are alive/sing only when the temperature is in the range of approximately 50-110F, extrapolating values is dangerous. In the plot above we split the temperature intervals into 3 categories:\n",
    "- Green: The predictions are made by interpolating the values given in the data set.\n",
    "- Yellow: Predictions are made by extrapolating, but in the 50-110F interval. Therefore, since the crickets are still alive/sing in this interval, predictions should not be entirely unreasonable.\n",
    "- Red: Predictions are made by extrapolating, outside the alive/singing interval. Predictions there will most likely be entirely false. Since the crickets are dead/don't sing, the number of pulses should be 0, but from the nature of the linear relationship, the predicted values will at some point become negative or very high."
   ]
  },
  {
   "cell_type": "code",
   "execution_count": 52,
   "id": "683c89ef",
   "metadata": {},
   "outputs": [
    {
     "name": "stdout",
     "output_type": "stream",
     "text": [
      "Coefficients of the linear relationship: [1.67880008 0.18598709]\n"
     ]
    }
   ],
   "source": [
    "print(f\"Coefficients of the linear relationship: {w}\")"
   ]
  },
  {
   "cell_type": "markdown",
   "id": "6ec380f2",
   "metadata": {},
   "source": [
    "Also, the linear regression weights give an interesting practical result. It seems that the number of pulses per second is given by the linear relationship \n",
    "\n",
    "$$\\text{Pulses per second} = 1.678 + 0.18 * \\text{Temperature}$$ \n",
    "\n",
    "One can then observe that after an increase/decrease of temperature by around 6 degrees, around one pulse per second increase/decrease is expected."
   ]
  }
 ],
 "metadata": {
  "kernelspec": {
   "display_name": "Python 3 (ipykernel)",
   "language": "python",
   "name": "python3"
  },
  "language_info": {
   "codemirror_mode": {
    "name": "ipython",
    "version": 3
   },
   "file_extension": ".py",
   "mimetype": "text/x-python",
   "name": "python",
   "nbconvert_exporter": "python",
   "pygments_lexer": "ipython3",
   "version": "3.9.6"
  }
 },
 "nbformat": 4,
 "nbformat_minor": 5
}
